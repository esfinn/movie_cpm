{
 "cells": [
  {
   "cell_type": "code",
   "execution_count": 1,
   "metadata": {},
   "outputs": [],
   "source": [
    "import numpy as np\n",
    "import scipy as sp\n",
    "import pandas as pd"
   ]
  },
  {
   "cell_type": "code",
   "execution_count": 2,
   "metadata": {},
   "outputs": [
    {
     "name": "stdout",
     "output_type": "stream",
     "text": [
      "(184, 382)\n"
     ]
    },
    {
     "data": {
      "text/html": [
       "<div>\n",
       "<style scoped>\n",
       "    .dataframe tbody tr th:only-of-type {\n",
       "        vertical-align: middle;\n",
       "    }\n",
       "\n",
       "    .dataframe tbody tr th {\n",
       "        vertical-align: top;\n",
       "    }\n",
       "\n",
       "    .dataframe thead th {\n",
       "        text-align: right;\n",
       "    }\n",
       "</style>\n",
       "<table border=\"1\" class=\"dataframe\">\n",
       "  <thead>\n",
       "    <tr style=\"text-align: right;\">\n",
       "      <th></th>\n",
       "      <th>Release</th>\n",
       "      <th>Acquisition</th>\n",
       "      <th>Gender</th>\n",
       "      <th>Age</th>\n",
       "      <th>3T_Full_MR_Compl</th>\n",
       "      <th>T1_Count</th>\n",
       "      <th>T2_Count</th>\n",
       "      <th>3T_RS-fMRI_Count</th>\n",
       "      <th>3T_RS-fMRI_PctCompl</th>\n",
       "      <th>3T_Full_Task_fMRI</th>\n",
       "      <th>...</th>\n",
       "      <th>Noise_Comp</th>\n",
       "      <th>Odor_Unadj</th>\n",
       "      <th>Odor_AgeAdj</th>\n",
       "      <th>PainIntens_RawScore</th>\n",
       "      <th>PainInterf_Tscore</th>\n",
       "      <th>Taste_Unadj</th>\n",
       "      <th>Taste_AgeAdj</th>\n",
       "      <th>Mars_Log_Score</th>\n",
       "      <th>Mars_Errs</th>\n",
       "      <th>Mars_Final</th>\n",
       "    </tr>\n",
       "    <tr>\n",
       "      <th>Subject</th>\n",
       "      <th></th>\n",
       "      <th></th>\n",
       "      <th></th>\n",
       "      <th></th>\n",
       "      <th></th>\n",
       "      <th></th>\n",
       "      <th></th>\n",
       "      <th></th>\n",
       "      <th></th>\n",
       "      <th></th>\n",
       "      <th></th>\n",
       "      <th></th>\n",
       "      <th></th>\n",
       "      <th></th>\n",
       "      <th></th>\n",
       "      <th></th>\n",
       "      <th></th>\n",
       "      <th></th>\n",
       "      <th></th>\n",
       "      <th></th>\n",
       "      <th></th>\n",
       "    </tr>\n",
       "  </thead>\n",
       "  <tbody>\n",
       "    <tr>\n",
       "      <th>100610</th>\n",
       "      <td>S900</td>\n",
       "      <td>Q08</td>\n",
       "      <td>M</td>\n",
       "      <td>26-30</td>\n",
       "      <td>True</td>\n",
       "      <td>2</td>\n",
       "      <td>1</td>\n",
       "      <td>4</td>\n",
       "      <td>100.0</td>\n",
       "      <td>True</td>\n",
       "      <td>...</td>\n",
       "      <td>2.0</td>\n",
       "      <td>122.25</td>\n",
       "      <td>110.45</td>\n",
       "      <td>0</td>\n",
       "      <td>38.6</td>\n",
       "      <td>84.84</td>\n",
       "      <td>85.31</td>\n",
       "      <td>1.92</td>\n",
       "      <td>1</td>\n",
       "      <td>1.88</td>\n",
       "    </tr>\n",
       "    <tr>\n",
       "      <th>102311</th>\n",
       "      <td>S500</td>\n",
       "      <td>Q06</td>\n",
       "      <td>F</td>\n",
       "      <td>26-30</td>\n",
       "      <td>True</td>\n",
       "      <td>1</td>\n",
       "      <td>1</td>\n",
       "      <td>4</td>\n",
       "      <td>100.0</td>\n",
       "      <td>True</td>\n",
       "      <td>...</td>\n",
       "      <td>4.4</td>\n",
       "      <td>122.25</td>\n",
       "      <td>110.45</td>\n",
       "      <td>1</td>\n",
       "      <td>52.2</td>\n",
       "      <td>98.31</td>\n",
       "      <td>99.06</td>\n",
       "      <td>1.80</td>\n",
       "      <td>0</td>\n",
       "      <td>1.80</td>\n",
       "    </tr>\n",
       "    <tr>\n",
       "      <th>102816</th>\n",
       "      <td>Q3</td>\n",
       "      <td>Q03</td>\n",
       "      <td>F</td>\n",
       "      <td>26-30</td>\n",
       "      <td>True</td>\n",
       "      <td>1</td>\n",
       "      <td>1</td>\n",
       "      <td>4</td>\n",
       "      <td>100.0</td>\n",
       "      <td>True</td>\n",
       "      <td>...</td>\n",
       "      <td>5.2</td>\n",
       "      <td>122.25</td>\n",
       "      <td>111.41</td>\n",
       "      <td>1</td>\n",
       "      <td>52.6</td>\n",
       "      <td>98.31</td>\n",
       "      <td>97.68</td>\n",
       "      <td>1.72</td>\n",
       "      <td>1</td>\n",
       "      <td>1.68</td>\n",
       "    </tr>\n",
       "    <tr>\n",
       "      <th>104416</th>\n",
       "      <td>S900</td>\n",
       "      <td>Q09</td>\n",
       "      <td>F</td>\n",
       "      <td>31-35</td>\n",
       "      <td>True</td>\n",
       "      <td>2</td>\n",
       "      <td>2</td>\n",
       "      <td>4</td>\n",
       "      <td>100.0</td>\n",
       "      <td>True</td>\n",
       "      <td>...</td>\n",
       "      <td>2.8</td>\n",
       "      <td>101.12</td>\n",
       "      <td>87.11</td>\n",
       "      <td>0</td>\n",
       "      <td>38.6</td>\n",
       "      <td>95.36</td>\n",
       "      <td>93.48</td>\n",
       "      <td>1.92</td>\n",
       "      <td>1</td>\n",
       "      <td>1.88</td>\n",
       "    </tr>\n",
       "    <tr>\n",
       "      <th>105923</th>\n",
       "      <td>MEG2</td>\n",
       "      <td>Q07</td>\n",
       "      <td>F</td>\n",
       "      <td>31-35</td>\n",
       "      <td>True</td>\n",
       "      <td>2</td>\n",
       "      <td>2</td>\n",
       "      <td>4</td>\n",
       "      <td>100.0</td>\n",
       "      <td>True</td>\n",
       "      <td>...</td>\n",
       "      <td>5.2</td>\n",
       "      <td>122.25</td>\n",
       "      <td>111.41</td>\n",
       "      <td>0</td>\n",
       "      <td>38.6</td>\n",
       "      <td>97.26</td>\n",
       "      <td>96.41</td>\n",
       "      <td>1.88</td>\n",
       "      <td>1</td>\n",
       "      <td>1.84</td>\n",
       "    </tr>\n",
       "  </tbody>\n",
       "</table>\n",
       "<p>5 rows × 382 columns</p>\n",
       "</div>"
      ],
      "text/plain": [
       "        Release Acquisition Gender    Age  3T_Full_MR_Compl  T1_Count  \\\n",
       "Subject                                                                 \n",
       "100610     S900         Q08      M  26-30              True         2   \n",
       "102311     S500         Q06      F  26-30              True         1   \n",
       "102816       Q3         Q03      F  26-30              True         1   \n",
       "104416     S900         Q09      F  31-35              True         2   \n",
       "105923     MEG2         Q07      F  31-35              True         2   \n",
       "\n",
       "         T2_Count  3T_RS-fMRI_Count  3T_RS-fMRI_PctCompl  3T_Full_Task_fMRI  \\\n",
       "Subject                                                                       \n",
       "100610          1                 4                100.0               True   \n",
       "102311          1                 4                100.0               True   \n",
       "102816          1                 4                100.0               True   \n",
       "104416          2                 4                100.0               True   \n",
       "105923          2                 4                100.0               True   \n",
       "\n",
       "         ...  Noise_Comp  Odor_Unadj  Odor_AgeAdj  PainIntens_RawScore  \\\n",
       "Subject  ...                                                             \n",
       "100610   ...         2.0      122.25       110.45                    0   \n",
       "102311   ...         4.4      122.25       110.45                    1   \n",
       "102816   ...         5.2      122.25       111.41                    1   \n",
       "104416   ...         2.8      101.12        87.11                    0   \n",
       "105923   ...         5.2      122.25       111.41                    0   \n",
       "\n",
       "         PainInterf_Tscore  Taste_Unadj  Taste_AgeAdj  Mars_Log_Score  \\\n",
       "Subject                                                                 \n",
       "100610                38.6        84.84         85.31            1.92   \n",
       "102311                52.2        98.31         99.06            1.80   \n",
       "102816                52.6        98.31         97.68            1.72   \n",
       "104416                38.6        95.36         93.48            1.92   \n",
       "105923                38.6        97.26         96.41            1.88   \n",
       "\n",
       "         Mars_Errs  Mars_Final  \n",
       "Subject                         \n",
       "100610           1        1.88  \n",
       "102311           0        1.80  \n",
       "102816           1        1.68  \n",
       "104416           1        1.88  \n",
       "105923           1        1.84  \n",
       "\n",
       "[5 rows x 382 columns]"
      ]
     },
     "execution_count": 2,
     "metadata": {},
     "output_type": "execute_result"
    }
   ],
   "source": [
    "data = pd.read_csv('../data/unres_behav_data.csv', dtype={'Subject':str})\n",
    "data = data.set_index('Subject')\n",
    "print(data.shape)\n",
    "data.head()"
   ]
  },
  {
   "cell_type": "markdown",
   "metadata": {},
   "source": [
    "### Get only subjects that have complete data for 7T REST and MOVIE"
   ]
  },
  {
   "cell_type": "code",
   "execution_count": 3,
   "metadata": {},
   "outputs": [],
   "source": [
    "cols_of_interest = [\n",
    "    \"fMRI_Movie_Compl\",\n",
    "    \"7T_RS-fMRI_PctCompl\"\n",
    "]"
   ]
  },
  {
   "cell_type": "code",
   "execution_count": 4,
   "metadata": {},
   "outputs": [
    {
     "data": {
      "text/html": [
       "<div>\n",
       "<style scoped>\n",
       "    .dataframe tbody tr th:only-of-type {\n",
       "        vertical-align: middle;\n",
       "    }\n",
       "\n",
       "    .dataframe tbody tr th {\n",
       "        vertical-align: top;\n",
       "    }\n",
       "\n",
       "    .dataframe thead th {\n",
       "        text-align: right;\n",
       "    }\n",
       "</style>\n",
       "<table border=\"1\" class=\"dataframe\">\n",
       "  <thead>\n",
       "    <tr style=\"text-align: right;\">\n",
       "      <th></th>\n",
       "      <th>fMRI_Movie_Compl</th>\n",
       "      <th>7T_RS-fMRI_PctCompl</th>\n",
       "    </tr>\n",
       "    <tr>\n",
       "      <th>Subject</th>\n",
       "      <th></th>\n",
       "      <th></th>\n",
       "    </tr>\n",
       "  </thead>\n",
       "  <tbody>\n",
       "    <tr>\n",
       "      <th>100610</th>\n",
       "      <td>True</td>\n",
       "      <td>100.0</td>\n",
       "    </tr>\n",
       "    <tr>\n",
       "      <th>102311</th>\n",
       "      <td>True</td>\n",
       "      <td>100.0</td>\n",
       "    </tr>\n",
       "    <tr>\n",
       "      <th>102816</th>\n",
       "      <td>True</td>\n",
       "      <td>100.0</td>\n",
       "    </tr>\n",
       "    <tr>\n",
       "      <th>104416</th>\n",
       "      <td>True</td>\n",
       "      <td>100.0</td>\n",
       "    </tr>\n",
       "    <tr>\n",
       "      <th>105923</th>\n",
       "      <td>True</td>\n",
       "      <td>100.0</td>\n",
       "    </tr>\n",
       "  </tbody>\n",
       "</table>\n",
       "</div>"
      ],
      "text/plain": [
       "         fMRI_Movie_Compl  7T_RS-fMRI_PctCompl\n",
       "Subject                                       \n",
       "100610               True                100.0\n",
       "102311               True                100.0\n",
       "102816               True                100.0\n",
       "104416               True                100.0\n",
       "105923               True                100.0"
      ]
     },
     "execution_count": 4,
     "metadata": {},
     "output_type": "execute_result"
    }
   ],
   "source": [
    "data = data[cols_of_interest]\n",
    "data.head()"
   ]
  },
  {
   "cell_type": "code",
   "execution_count": 5,
   "metadata": {},
   "outputs": [
    {
     "name": "stdout",
     "output_type": "stream",
     "text": [
      "(176, 2)\n"
     ]
    }
   ],
   "source": [
    "print(data[(data[\"fMRI_Movie_Compl\"]==True) & (data[\"7T_RS-fMRI_PctCompl\"]==100.0)].shape)"
   ]
  },
  {
   "cell_type": "code",
   "execution_count": 6,
   "metadata": {},
   "outputs": [
    {
     "name": "stdout",
     "output_type": "stream",
     "text": [
      "176\n"
     ]
    },
    {
     "data": {
      "text/plain": [
       "array(['100610', '102311', '102816', '104416', '105923', '108323',\n",
       "       '109123', '111514', '114823', '115017', '115825', '116726',\n",
       "       '118225', '125525', '126426', '126931', '128935', '130114',\n",
       "       '130518', '131217', '131722', '132118', '134627', '134829',\n",
       "       '135124', '137128', '140117', '144226', '145834', '146129',\n",
       "       '146432', '146735', '146937', '148133', '150423', '155938',\n",
       "       '156334', '157336', '158035', '158136', '159239', '162935',\n",
       "       '164131', '164636', '165436', '167036', '167440', '169040',\n",
       "       '169343', '169444', '169747', '171633', '172130', '173334',\n",
       "       '175237', '176542', '177140', '177645', '177746', '178142',\n",
       "       '178243', '178647', '180533', '181232', '182436', '182739',\n",
       "       '185442', '186949', '187345', '191033', '191336', '191841',\n",
       "       '192439', '192641', '193845', '195041', '196144', '197348',\n",
       "       '198653', '199655', '200210', '200311', '200614', '201515',\n",
       "       '203418', '204521', '205220', '209228', '212419', '214019',\n",
       "       '214524', '221319', '233326', '239136', '246133', '249947',\n",
       "       '251833', '257845', '263436', '283543', '318637', '320826',\n",
       "       '330324', '346137', '352738', '360030', '365343', '380036',\n",
       "       '381038', '385046', '389357', '393247', '395756', '397760',\n",
       "       '401422', '406836', '412528', '429040', '436845', '463040',\n",
       "       '467351', '525541', '541943', '547046', '550439', '562345',\n",
       "       '572045', '573249', '581450', '601127', '617748', '627549',\n",
       "       '638049', '644246', '654552', '671855', '680957', '690152',\n",
       "       '706040', '724446', '725751', '732243', '745555', '751550',\n",
       "       '757764', '765864', '770352', '771354', '782561', '783462',\n",
       "       '789373', '814649', '818859', '825048', '826353', '833249',\n",
       "       '859671', '861456', '871762', '872764', '878776', '878877',\n",
       "       '898176', '899885', '901139', '901442', '905147', '910241',\n",
       "       '926862', '927359', '942658', '943862', '958976', '966975',\n",
       "       '971160', '995174'], dtype=object)"
      ]
     },
     "execution_count": 6,
     "metadata": {},
     "output_type": "execute_result"
    }
   ],
   "source": [
    "subj_list = data[(data[\"fMRI_Movie_Compl\"]==True) & (data[\"7T_RS-fMRI_PctCompl\"]==100.0)].index.values\n",
    "print(len(subj_list))\n",
    "subj_list"
   ]
  },
  {
   "cell_type": "markdown",
   "metadata": {},
   "source": [
    "### Get family structure for these subjects"
   ]
  },
  {
   "cell_type": "markdown",
   "metadata": {},
   "source": [
    "For this you will need to download the restricted behavioral data from HCP and save it in the `/data` directory as a .csv (here called \"res_behav_data.csv\")."
   ]
  },
  {
   "cell_type": "code",
   "execution_count": 9,
   "metadata": {},
   "outputs": [
    {
     "name": "stdout",
     "output_type": "stream",
     "text": [
      "(184, 200)\n"
     ]
    }
   ],
   "source": [
    "res_behav_data = pd.read_csv(\"../data/res_behav_data.csv\", dtype={'Subject':str})\n",
    "res_behav_data = res_behav_data.set_index(\"Subject\")\n",
    "print(res_behav_data.shape)\n",
    "# res_behav_data.head()"
   ]
  },
  {
   "cell_type": "code",
   "execution_count": 10,
   "metadata": {},
   "outputs": [],
   "source": [
    "mothers = res_behav_data.loc[subj_list, \"Mother_ID\"]\n",
    "mothers = mothers.to_frame()\n",
    "# mothers.head()"
   ]
  },
  {
   "cell_type": "code",
   "execution_count": 11,
   "metadata": {},
   "outputs": [
    {
     "name": "stdout",
     "output_type": "stream",
     "text": [
      "There are 90 unique families in the dataset\n",
      "There are 90 unrelated subjects in set 1\n",
      "There are 84 unrelated subjects in set 2\n"
     ]
    }
   ],
   "source": [
    "siblings_list = []\n",
    "\n",
    "for mother in mothers[\"Mother_ID\"].unique():\n",
    "    siblings_list.append(mothers.query(\"Mother_ID==@mother\").index.values)\n",
    "    \n",
    "siblings_list = np.array(siblings_list)\n",
    "\n",
    "print(\"There are {} unique families in the dataset\".format(len(siblings_list)))\n",
    "\n",
    "subj_set1 = [family[0] for family in siblings_list]\n",
    "subj_set2 = [family[1] for family in siblings_list if len(family)>1]\n",
    "\n",
    "# Make sure subjects are sorted\n",
    "subj_set1.sort()\n",
    "subj_set2.sort()\n",
    "\n",
    "print(\"There are {} unrelated subjects in set 1\".format(len(subj_set1)))\n",
    "print(\"There are {} unrelated subjects in set 2\".format(len(subj_set2)))"
   ]
  },
  {
   "cell_type": "code",
   "execution_count": 12,
   "metadata": {},
   "outputs": [],
   "source": [
    "# siblings_list"
   ]
  },
  {
   "cell_type": "markdown",
   "metadata": {},
   "source": [
    "### Save stuff"
   ]
  },
  {
   "cell_type": "code",
   "execution_count": 48,
   "metadata": {},
   "outputs": [],
   "source": [
    "np.save('subj_list.npy', subj_list, allow_pickle=True)\n",
    "np.save('family_list.npy', siblings_list, allow_pickle=True)"
   ]
  },
  {
   "cell_type": "code",
   "execution_count": null,
   "metadata": {},
   "outputs": [],
   "source": []
  }
 ],
 "metadata": {
  "kernelspec": {
   "display_name": "Python 3",
   "language": "python",
   "name": "python3"
  },
  "language_info": {
   "codemirror_mode": {
    "name": "ipython",
    "version": 3
   },
   "file_extension": ".py",
   "mimetype": "text/x-python",
   "name": "python",
   "nbconvert_exporter": "python",
   "pygments_lexer": "ipython3",
   "version": "3.7.6"
  }
 },
 "nbformat": 4,
 "nbformat_minor": 2
}
