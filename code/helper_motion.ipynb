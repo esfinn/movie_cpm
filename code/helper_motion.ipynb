{
 "cells": [
  {
   "cell_type": "code",
   "execution_count": 15,
   "metadata": {},
   "outputs": [],
   "source": [
    "import numpy as np\n",
    "import pandas as pd\n",
    "import os"
   ]
  },
  {
   "cell_type": "code",
   "execution_count": 16,
   "metadata": {},
   "outputs": [
    {
     "name": "stdout",
     "output_type": "stream",
     "text": [
      "/data/HCP_preproc/7T_movie/movie_cpm/code\r\n"
     ]
    }
   ],
   "source": [
    "!pwd"
   ]
  },
  {
   "cell_type": "code",
   "execution_count": 17,
   "metadata": {},
   "outputs": [
    {
     "name": "stdout",
     "output_type": "stream",
     "text": [
      "176\n"
     ]
    },
    {
     "data": {
      "text/plain": [
       "array(['100610', '102311', '102816', '104416', '105923', '108323',\n",
       "       '109123', '111514', '114823', '115017'], dtype=object)"
      ]
     },
     "execution_count": 17,
     "metadata": {},
     "output_type": "execute_result"
    }
   ],
   "source": [
    "subj_list = np.load('subj_list.npy', allow_pickle=True)\n",
    "print(len(subj_list))\n",
    "subj_list[0:10]"
   ]
  },
  {
   "cell_type": "code",
   "execution_count": 18,
   "metadata": {},
   "outputs": [],
   "source": [
    "f_suffix = \"Movement_RelativeRMS_mean\"\n",
    "\n",
    "run_list_rest = [\"REST1_7T_PA\", \"REST4_7T_AP\"]\n",
    "run_list_movie = [\"MOVIE1_7T_AP\", \"MOVIE2_7T_PA\", \"MOVIE3_7T_PA\", \"MOVIE4_7T_AP\"]"
   ]
  },
  {
   "cell_type": "code",
   "execution_count": 19,
   "metadata": {},
   "outputs": [],
   "source": [
    "run_names_short=[run for sublist in [run_list_rest, run_list_movie] for run in sublist]\n",
    "\n",
    "columns = []\n",
    "for run in run_names_short:\n",
    "    columns.append(run + \"_\" + f_suffix)\n",
    "\n",
    "motion_data = pd.DataFrame(index=subj_list, columns=columns)"
   ]
  },
  {
   "cell_type": "markdown",
   "metadata": {},
   "source": [
    "Change the directories below to where you have the HCP data saved:"
   ]
  },
  {
   "cell_type": "code",
   "execution_count": 20,
   "metadata": {},
   "outputs": [],
   "source": [
    "data_path_rest = \"/data/HCP_preproc/resting_7T_1.6mm_59k_functional_preprocessed_Jan2020/\"\n",
    "data_path_movie = \"/data/HCP/HCP_7T/7T_Movie_fMRI_Preproc/\"\n",
    "\n",
    "for subj in subj_list:\n",
    "    \n",
    "    for run in run_list_rest:\n",
    "        f_name = data_path_rest + subj + \"/MNINonLinear/Results/rfMRI_\" + run + \"/\" + f_suffix + \".txt\"\n",
    "        col_name = run + \"_\" + f_suffix\n",
    "        \n",
    "        if os.path.isfile(f_name):\n",
    "            with open(f_name) as file:\n",
    "                tmp = file.read().splitlines()[0]\n",
    "                motion_data.loc[subj, col_name] = tmp\n",
    "        else:\n",
    "            print(\"File missing for {} {}\".format(subj, run))\n",
    "            motion_data.loc[subj, col_name] = np.nan\n",
    "            \n",
    "    for run in run_list_movie:\n",
    "        f_name = data_path_movie + subj + \"/MNINonLinear/Results/tfMRI_\" + run + \"/\" + f_suffix + \".txt\"\n",
    "        col_name = run + \"_\" + f_suffix\n",
    "        \n",
    "        if os.path.isfile(f_name):\n",
    "            with open(f_name) as file:\n",
    "                tmp = file.read().splitlines()[0]\n",
    "                motion_data.loc[subj, col_name] = tmp\n",
    "        else:\n",
    "            print(\"File missing for {} {}\".format(subj, run))\n",
    "            motion_data.loc[subj, col_name] = np.nan"
   ]
  },
  {
   "cell_type": "code",
   "execution_count": 21,
   "metadata": {},
   "outputs": [
    {
     "data": {
      "text/html": [
       "<div>\n",
       "<style scoped>\n",
       "    .dataframe tbody tr th:only-of-type {\n",
       "        vertical-align: middle;\n",
       "    }\n",
       "\n",
       "    .dataframe tbody tr th {\n",
       "        vertical-align: top;\n",
       "    }\n",
       "\n",
       "    .dataframe thead th {\n",
       "        text-align: right;\n",
       "    }\n",
       "</style>\n",
       "<table border=\"1\" class=\"dataframe\">\n",
       "  <thead>\n",
       "    <tr style=\"text-align: right;\">\n",
       "      <th></th>\n",
       "      <th>REST1_7T_PA_Movement_RelativeRMS_mean</th>\n",
       "      <th>REST4_7T_AP_Movement_RelativeRMS_mean</th>\n",
       "      <th>MOVIE1_7T_AP_Movement_RelativeRMS_mean</th>\n",
       "      <th>MOVIE2_7T_PA_Movement_RelativeRMS_mean</th>\n",
       "      <th>MOVIE3_7T_PA_Movement_RelativeRMS_mean</th>\n",
       "      <th>MOVIE4_7T_AP_Movement_RelativeRMS_mean</th>\n",
       "    </tr>\n",
       "    <tr>\n",
       "      <th>Subject</th>\n",
       "      <th></th>\n",
       "      <th></th>\n",
       "      <th></th>\n",
       "      <th></th>\n",
       "      <th></th>\n",
       "      <th></th>\n",
       "    </tr>\n",
       "  </thead>\n",
       "  <tbody>\n",
       "    <tr>\n",
       "      <th>100610</th>\n",
       "      <td>0.18972</td>\n",
       "      <td>0.202442</td>\n",
       "      <td>0.257122</td>\n",
       "      <td>0.178953</td>\n",
       "      <td>0.201716</td>\n",
       "      <td>0.240824</td>\n",
       "    </tr>\n",
       "    <tr>\n",
       "      <th>102311</th>\n",
       "      <td>0.0525035</td>\n",
       "      <td>0.139191</td>\n",
       "      <td>0.0832096</td>\n",
       "      <td>0.0789687</td>\n",
       "      <td>0.103597</td>\n",
       "      <td>0.09436</td>\n",
       "    </tr>\n",
       "    <tr>\n",
       "      <th>102816</th>\n",
       "      <td>0.176665</td>\n",
       "      <td>0.144463</td>\n",
       "      <td>0.228877</td>\n",
       "      <td>0.176782</td>\n",
       "      <td>0.156451</td>\n",
       "      <td>0.14872</td>\n",
       "    </tr>\n",
       "    <tr>\n",
       "      <th>104416</th>\n",
       "      <td>0.0334869</td>\n",
       "      <td>0.049917</td>\n",
       "      <td>0.0394932</td>\n",
       "      <td>0.0263406</td>\n",
       "      <td>0.0332663</td>\n",
       "      <td>0.0474593</td>\n",
       "    </tr>\n",
       "    <tr>\n",
       "      <th>105923</th>\n",
       "      <td>0.0892302</td>\n",
       "      <td>0.0854001</td>\n",
       "      <td>0.0676684</td>\n",
       "      <td>0.0531432</td>\n",
       "      <td>0.0572334</td>\n",
       "      <td>0.0604693</td>\n",
       "    </tr>\n",
       "  </tbody>\n",
       "</table>\n",
       "</div>"
      ],
      "text/plain": [
       "        REST1_7T_PA_Movement_RelativeRMS_mean  \\\n",
       "Subject                                         \n",
       "100610                                0.18972   \n",
       "102311                              0.0525035   \n",
       "102816                               0.176665   \n",
       "104416                              0.0334869   \n",
       "105923                              0.0892302   \n",
       "\n",
       "        REST4_7T_AP_Movement_RelativeRMS_mean  \\\n",
       "Subject                                         \n",
       "100610                               0.202442   \n",
       "102311                               0.139191   \n",
       "102816                               0.144463   \n",
       "104416                               0.049917   \n",
       "105923                              0.0854001   \n",
       "\n",
       "        MOVIE1_7T_AP_Movement_RelativeRMS_mean  \\\n",
       "Subject                                          \n",
       "100610                                0.257122   \n",
       "102311                               0.0832096   \n",
       "102816                                0.228877   \n",
       "104416                               0.0394932   \n",
       "105923                               0.0676684   \n",
       "\n",
       "        MOVIE2_7T_PA_Movement_RelativeRMS_mean  \\\n",
       "Subject                                          \n",
       "100610                                0.178953   \n",
       "102311                               0.0789687   \n",
       "102816                                0.176782   \n",
       "104416                               0.0263406   \n",
       "105923                               0.0531432   \n",
       "\n",
       "        MOVIE3_7T_PA_Movement_RelativeRMS_mean  \\\n",
       "Subject                                          \n",
       "100610                                0.201716   \n",
       "102311                                0.103597   \n",
       "102816                                0.156451   \n",
       "104416                               0.0332663   \n",
       "105923                               0.0572334   \n",
       "\n",
       "        MOVIE4_7T_AP_Movement_RelativeRMS_mean  \n",
       "Subject                                         \n",
       "100610                                0.240824  \n",
       "102311                                 0.09436  \n",
       "102816                                 0.14872  \n",
       "104416                               0.0474593  \n",
       "105923                               0.0604693  "
      ]
     },
     "execution_count": 21,
     "metadata": {},
     "output_type": "execute_result"
    }
   ],
   "source": [
    "motion_data.index.name = 'Subject'\n",
    "motion_data.head()"
   ]
  },
  {
   "cell_type": "markdown",
   "metadata": {},
   "source": [
    "### Do individual clips and matched rest blocks"
   ]
  },
  {
   "cell_type": "code",
   "execution_count": 22,
   "metadata": {},
   "outputs": [
    {
     "data": {
      "text/html": [
       "<div>\n",
       "<style scoped>\n",
       "    .dataframe tbody tr th:only-of-type {\n",
       "        vertical-align: middle;\n",
       "    }\n",
       "\n",
       "    .dataframe tbody tr th {\n",
       "        vertical-align: top;\n",
       "    }\n",
       "\n",
       "    .dataframe thead th {\n",
       "        text-align: right;\n",
       "    }\n",
       "</style>\n",
       "<table border=\"1\" class=\"dataframe\">\n",
       "  <thead>\n",
       "    <tr style=\"text-align: right;\">\n",
       "      <th></th>\n",
       "      <th>clipno_overall</th>\n",
       "      <th>run</th>\n",
       "      <th>clipno_in_run</th>\n",
       "      <th>clip_name</th>\n",
       "      <th>start_tr</th>\n",
       "      <th>stop_tr</th>\n",
       "    </tr>\n",
       "  </thead>\n",
       "  <tbody>\n",
       "    <tr>\n",
       "      <th>0</th>\n",
       "      <td>1</td>\n",
       "      <td>MOVIE1_7T_AP</td>\n",
       "      <td>1</td>\n",
       "      <td>twomen</td>\n",
       "      <td>20</td>\n",
       "      <td>265</td>\n",
       "    </tr>\n",
       "    <tr>\n",
       "      <th>1</th>\n",
       "      <td>2</td>\n",
       "      <td>MOVIE1_7T_AP</td>\n",
       "      <td>2</td>\n",
       "      <td>bridgeville</td>\n",
       "      <td>285</td>\n",
       "      <td>506</td>\n",
       "    </tr>\n",
       "    <tr>\n",
       "      <th>2</th>\n",
       "      <td>3</td>\n",
       "      <td>MOVIE1_7T_AP</td>\n",
       "      <td>3</td>\n",
       "      <td>pockets</td>\n",
       "      <td>526</td>\n",
       "      <td>714</td>\n",
       "    </tr>\n",
       "    <tr>\n",
       "      <th>3</th>\n",
       "      <td>4</td>\n",
       "      <td>MOVIE1_7T_AP</td>\n",
       "      <td>4</td>\n",
       "      <td>overcome</td>\n",
       "      <td>735</td>\n",
       "      <td>798</td>\n",
       "    </tr>\n",
       "    <tr>\n",
       "      <th>4</th>\n",
       "      <td>5</td>\n",
       "      <td>MOVIE1_7T_AP</td>\n",
       "      <td>5</td>\n",
       "      <td>testretest1</td>\n",
       "      <td>818</td>\n",
       "      <td>901</td>\n",
       "    </tr>\n",
       "  </tbody>\n",
       "</table>\n",
       "</div>"
      ],
      "text/plain": [
       "   clipno_overall           run  clipno_in_run    clip_name  start_tr  stop_tr\n",
       "0               1  MOVIE1_7T_AP              1       twomen        20      265\n",
       "1               2  MOVIE1_7T_AP              2  bridgeville       285      506\n",
       "2               3  MOVIE1_7T_AP              3      pockets       526      714\n",
       "3               4  MOVIE1_7T_AP              4     overcome       735      798\n",
       "4               5  MOVIE1_7T_AP              5  testretest1       818      901"
      ]
     },
     "execution_count": 22,
     "metadata": {},
     "output_type": "execute_result"
    }
   ],
   "source": [
    "video_tr_lookup = pd.read_csv('../data/video_tr_lookup.csv')\n",
    "video_tr_lookup.head()"
   ]
  },
  {
   "cell_type": "code",
   "execution_count": 23,
   "metadata": {},
   "outputs": [],
   "source": [
    "data_path_motion = \"/data/HCP/HCP_7T/7T_Movie_fMRI_Preproc/\"\n",
    "f_suffix = \"Movement_RelativeRMS\""
   ]
  },
  {
   "cell_type": "code",
   "execution_count": 24,
   "metadata": {},
   "outputs": [],
   "source": [
    "clip_to_rest_name_dict = {\n",
    "        \"twomen\": \"REST1_7T_PA\",\n",
    "        \"bridgeville\": \"REST1_7T_PA\",\n",
    "        \"pockets\": \"REST1_7T_PA\",\n",
    "        \"overcome\": \"REST1_7T_PA\",\n",
    "        \"testretest1\": \"REST1_7T_PA\",\n",
    "\n",
    "        \"inception\": \"REST1_7T_PA\",\n",
    "        \"socialnet\": \"REST1_7T_PA\",\n",
    "        \"oceans\": \"REST1_7T_PA\",\n",
    "        \"testretest2\": \"REST1_7T_PA\",\n",
    "\n",
    "        \"flower\": \"REST4_7T_AP\",\n",
    "        \"hotel\": \"REST4_7T_AP\",\n",
    "        \"garden\": \"REST4_7T_AP\",\n",
    "        \"dreary\": \"REST4_7T_AP\",\n",
    "        \"testretest3\": \"REST4_7T_AP\",\n",
    "\n",
    "        \"homealone\": \"REST4_7T_AP\",\n",
    "        \"brokovich\": \"REST4_7T_AP\",\n",
    "        \"starwars\": \"REST4_7T_AP\",\n",
    "        \"testretest4\": \"REST4_7T_AP\",\n",
    "        }"
   ]
  },
  {
   "cell_type": "code",
   "execution_count": null,
   "metadata": {},
   "outputs": [],
   "source": [
    "clip_list = video_tr_lookup.clip_name.tolist()\n",
    "\n",
    "for clip in clip_list:\n",
    "    # Get start and stop TRs\n",
    "    start_tr = video_tr_lookup.loc[video_tr_lookup[\"clip_name\"]==clip, \"start_tr\"].values[0]\n",
    "    stop_tr = video_tr_lookup.loc[video_tr_lookup[\"clip_name\"]==clip, \"stop_tr\"].values[0]\n",
    "    \n",
    "    # Read in motion file for this run\n",
    "    run_name = video_tr_lookup.query('clip_name==@clip')[\"run\"].tolist()[0]\n",
    "    col_name = clip + \"_Movement_RelativeRMS_mean\"\n",
    "    for subj in subj_list:\n",
    "        f_name = data_path_motion + subj + \"/MNINonLinear/Results/tfMRI_\" + run_name + \"/\" + f_suffix + \".txt\"\n",
    "        tmp = np.loadtxt(f_name)\n",
    "        tmp = tmp[start_tr:stop_tr]\n",
    "        motion_data.loc[subj, col_name] = np.mean(tmp)\n",
    "        \n",
    "    # Read in motion file for matched REST run\n",
    "    run_name = clip_to_rest_name_dict[clip]\n",
    "    col_name = clip + \"_SameRestBlock_Movement_RelativeRMS_mean\"\n",
    "    for subj in subj_list:\n",
    "        f_name = data_path_rest + subj + \"/MNINonLinear/Results/rfMRI_\" + run_name + \"/\" + f_suffix + \".txt\"\n",
    "        tmp = np.loadtxt(f_name)\n",
    "        tmp = tmp[start_tr:stop_tr]\n",
    "        motion_data.loc[subj, col_name] = np.mean(tmp)"
   ]
  },
  {
   "cell_type": "code",
   "execution_count": null,
   "metadata": {},
   "outputs": [],
   "source": [
    "motion_data.head()"
   ]
  },
  {
   "cell_type": "markdown",
   "metadata": {},
   "source": [
    "### Save"
   ]
  },
  {
   "cell_type": "code",
   "execution_count": null,
   "metadata": {},
   "outputs": [],
   "source": [
    "motion_data.to_csv(\"../data/motion_data.csv\")"
   ]
  },
  {
   "cell_type": "code",
   "execution_count": null,
   "metadata": {},
   "outputs": [],
   "source": []
  }
 ],
 "metadata": {
  "kernelspec": {
   "display_name": "Python 3",
   "language": "python",
   "name": "python3"
  },
  "language_info": {
   "codemirror_mode": {
    "name": "ipython",
    "version": 3
   },
   "file_extension": ".py",
   "mimetype": "text/x-python",
   "name": "python",
   "nbconvert_exporter": "python",
   "pygments_lexer": "ipython3",
   "version": "3.7.6"
  }
 },
 "nbformat": 4,
 "nbformat_minor": 2
}
